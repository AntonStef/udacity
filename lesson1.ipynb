{
 "cells": [
  {
   "cell_type": "code",
   "execution_count": 5,
   "metadata": {},
   "outputs": [],
   "source": [
    "#Всю информацию по предобработки смотри на \n",
    "#https://github.com/tensorflow/tensorflow/blob/master/tensorflow/examples/udacity/1_notmnist.ipynb\n",
    "# These are all the modules we'll be using later. Make sure you can import them\n",
    "# before proceeding further.\n",
    "from __future__ import print_function\n",
    "import imageio\n",
    "import matplotlib.pyplot as plt\n",
    "import numpy as np\n",
    "import os\n",
    "import sys\n",
    "import tarfile\n",
    "from IPython.display import display, Image\n",
    "from sklearn.linear_model import LogisticRegression\n",
    "from six.moves.urllib.request import urlretrieve\n",
    "from six.moves import cPickle as pickle\n",
    "\n",
    "# Config the matplotlib backend as plotting inline in IPython\n",
    "%matplotlib inline"
   ]
  },
  {
   "cell_type": "code",
   "execution_count": 2,
   "metadata": {},
   "outputs": [
    {
     "name": "stdout",
     "output_type": "stream",
     "text": [
      "Found and verified .\\notMNIST_large.tar.gz\n",
      "Found and verified .\\notMNIST_small.tar.gz\n"
     ]
    }
   ],
   "source": [
    "url = 'https://commondatastorage.googleapis.com/books1000/'\n",
    "last_percent_reported = None\n",
    "data_root = '.' # Change me to store data elsewhere\n",
    "\n",
    "def download_progress_hook(count, blockSize, totalSize):\n",
    "  \"\"\"A hook to report the progress of a download. This is mostly intended for users with\n",
    "  slow internet connections. Reports every 5% change in download progress.\n",
    "  \"\"\"\n",
    "  global last_percent_reported\n",
    "  percent = int(count * blockSize * 100 / totalSize)\n",
    "\n",
    "  if last_percent_reported != percent:\n",
    "    if percent % 5 == 0:\n",
    "      sys.stdout.write(\"%s%%\" % percent)\n",
    "      sys.stdout.flush()\n",
    "    else:\n",
    "      sys.stdout.write(\".\")\n",
    "      sys.stdout.flush()\n",
    "      \n",
    "    last_percent_reported = percent\n",
    "        \n",
    "def maybe_download(filename, expected_bytes, force=False):\n",
    "  \"\"\"Download a file if not present, and make sure it's the right size.\"\"\"\n",
    "  dest_filename = os.path.join(data_root, filename)\n",
    "  if force or not os.path.exists(dest_filename):\n",
    "    print('Attempting to download:', filename) \n",
    "    filename, _ = urlretrieve(url + filename, dest_filename, reporthook=download_progress_hook)\n",
    "    print('\\nDownload Complete!')\n",
    "  statinfo = os.stat(dest_filename)\n",
    "  if statinfo.st_size == expected_bytes:\n",
    "    print('Found and verified', dest_filename)\n",
    "  else:\n",
    "    raise Exception(\n",
    "      'Failed to verify ' + dest_filename + '. Can you get to it with a browser?')\n",
    "  return dest_filename\n",
    "\n",
    "train_filename = maybe_download('notMNIST_large.tar.gz', 247336696)\n",
    "test_filename = maybe_download('notMNIST_small.tar.gz', 8458043)"
   ]
  },
  {
   "cell_type": "code",
   "execution_count": 3,
   "metadata": {},
   "outputs": [
    {
     "name": "stdout",
     "output_type": "stream",
     "text": [
      ".\\notMNIST_large already present - Skipping extraction of .\\notMNIST_large.tar.gz.\n",
      "['.\\\\notMNIST_large\\\\A', '.\\\\notMNIST_large\\\\B', '.\\\\notMNIST_large\\\\C', '.\\\\notMNIST_large\\\\D', '.\\\\notMNIST_large\\\\E', '.\\\\notMNIST_large\\\\F', '.\\\\notMNIST_large\\\\G', '.\\\\notMNIST_large\\\\H', '.\\\\notMNIST_large\\\\I', '.\\\\notMNIST_large\\\\J']\n",
      ".\\notMNIST_small already present - Skipping extraction of .\\notMNIST_small.tar.gz.\n",
      "['.\\\\notMNIST_small\\\\A', '.\\\\notMNIST_small\\\\B', '.\\\\notMNIST_small\\\\C', '.\\\\notMNIST_small\\\\D', '.\\\\notMNIST_small\\\\E', '.\\\\notMNIST_small\\\\F', '.\\\\notMNIST_small\\\\G', '.\\\\notMNIST_small\\\\H', '.\\\\notMNIST_small\\\\I', '.\\\\notMNIST_small\\\\J']\n"
     ]
    }
   ],
   "source": [
    "num_classes = 10\n",
    "np.random.seed(133)\n",
    "\n",
    "def maybe_extract(filename, force=False):\n",
    "  root = os.path.splitext(os.path.splitext(filename)[0])[0]  # remove .tar.gz\n",
    "  if os.path.isdir(root) and not force:\n",
    "    # You may override by setting force=True.\n",
    "    print('%s already present - Skipping extraction of %s.' % (root, filename))\n",
    "  else:\n",
    "    print('Extracting data for %s. This may take a while. Please wait.' % root)\n",
    "    tar = tarfile.open(filename)\n",
    "    sys.stdout.flush()\n",
    "    tar.extractall(data_root)\n",
    "    tar.close()\n",
    "  data_folders = [\n",
    "    os.path.join(root, d) for d in sorted(os.listdir(root))\n",
    "    if os.path.isdir(os.path.join(root, d))]\n",
    "  if len(data_folders) != num_classes:\n",
    "    raise Exception(\n",
    "      'Expected %d folders, one per class. Found %d instead.' % (\n",
    "        num_classes, len(data_folders)))\n",
    "  print(data_folders)\n",
    "  return data_folders\n",
    "  \n",
    "train_folders = maybe_extract(train_filename)\n",
    "test_folders = maybe_extract(test_filename)"
   ]
  },
  {
   "cell_type": "code",
   "execution_count": 4,
   "metadata": {},
   "outputs": [
    {
     "name": "stdout",
     "output_type": "stream",
     "text": [
      ".\\notMNIST_large\\A.pickle already present - Skipping pickling.\n",
      ".\\notMNIST_large\\B.pickle already present - Skipping pickling.\n",
      ".\\notMNIST_large\\C.pickle already present - Skipping pickling.\n",
      ".\\notMNIST_large\\D.pickle already present - Skipping pickling.\n",
      ".\\notMNIST_large\\E.pickle already present - Skipping pickling.\n",
      ".\\notMNIST_large\\F.pickle already present - Skipping pickling.\n",
      ".\\notMNIST_large\\G.pickle already present - Skipping pickling.\n",
      ".\\notMNIST_large\\H.pickle already present - Skipping pickling.\n",
      ".\\notMNIST_large\\I.pickle already present - Skipping pickling.\n",
      ".\\notMNIST_large\\J.pickle already present - Skipping pickling.\n",
      ".\\notMNIST_small\\A.pickle already present - Skipping pickling.\n",
      ".\\notMNIST_small\\B.pickle already present - Skipping pickling.\n",
      ".\\notMNIST_small\\C.pickle already present - Skipping pickling.\n",
      ".\\notMNIST_small\\D.pickle already present - Skipping pickling.\n",
      ".\\notMNIST_small\\E.pickle already present - Skipping pickling.\n",
      ".\\notMNIST_small\\F.pickle already present - Skipping pickling.\n",
      ".\\notMNIST_small\\G.pickle already present - Skipping pickling.\n",
      ".\\notMNIST_small\\H.pickle already present - Skipping pickling.\n",
      ".\\notMNIST_small\\I.pickle already present - Skipping pickling.\n",
      ".\\notMNIST_small\\J.pickle already present - Skipping pickling.\n"
     ]
    }
   ],
   "source": [
    "image_size = 28  # Pixel width and height.\n",
    "pixel_depth = 255.0  # Number of levels per pixel.\n",
    "\n",
    "def load_letter(folder, min_num_images):\n",
    "  \"\"\"Load the data for a single letter label.\"\"\"\n",
    "  image_files = os.listdir(folder)\n",
    "  dataset = np.ndarray(shape=(len(image_files), image_size, image_size),\n",
    "                         dtype=np.float32)\n",
    "  print(folder)\n",
    "  num_images = 0\n",
    "  for image in image_files:\n",
    "    image_file = os.path.join(folder, image)\n",
    "    try:\n",
    "      image_data = (imageio.imread(image_file).astype(float) - \n",
    "                    pixel_depth / 2) / pixel_depth\n",
    "      if image_data.shape != (image_size, image_size):\n",
    "        raise Exception('Unexpected image shape: %s' % str(image_data.shape))\n",
    "      dataset[num_images, :, :] = image_data\n",
    "      num_images = num_images + 1\n",
    "    except (IOError, ValueError) as e:\n",
    "      print('Could not read:', image_file, ':', e, '- it\\'s ok, skipping.')\n",
    "    \n",
    "  dataset = dataset[0:num_images, :, :]\n",
    "  if num_images < min_num_images:\n",
    "    raise Exception('Many fewer images than expected: %d < %d' %\n",
    "                    (num_images, min_num_images))\n",
    "    \n",
    "  print('Full dataset tensor:', dataset.shape)\n",
    "  print('Mean:', np.mean(dataset))\n",
    "  print('Standard deviation:', np.std(dataset))\n",
    "  return dataset\n",
    "        \n",
    "def maybe_pickle(data_folders, min_num_images_per_class, force=False):\n",
    "  dataset_names = []\n",
    "  for folder in data_folders:\n",
    "    set_filename = folder + '.pickle'\n",
    "    dataset_names.append(set_filename)\n",
    "    if os.path.exists(set_filename) and not force:\n",
    "      # You may override by setting force=True.\n",
    "      print('%s already present - Skipping pickling.' % set_filename)\n",
    "    else:\n",
    "      print('Pickling %s.' % set_filename)\n",
    "      dataset = load_letter(folder, min_num_images_per_class)\n",
    "      try:\n",
    "        with open(set_filename, 'wb') as f:\n",
    "          pickle.dump(dataset, f, pickle.HIGHEST_PROTOCOL)\n",
    "      except Exception as e:\n",
    "        print('Unable to save data to', set_filename, ':', e)\n",
    "  \n",
    "  return dataset_names\n",
    "\n",
    "train_datasets = maybe_pickle(train_folders, 45000)\n",
    "test_datasets = maybe_pickle(test_folders, 1800)"
   ]
  },
  {
   "cell_type": "code",
   "execution_count": 39,
   "metadata": {},
   "outputs": [
    {
     "data": {
      "image/png": "[encoded data removed]",
      "text/plain": [
       "<IPython.core.display.Image object>"
      ]
     },
     "execution_count": 39,
     "metadata": {},
     "output_type": "execute_result"
    }
   ],
   "source": [
    "Image(filename=\"./notMNIST_small/A/MDEtMDEtMDAudHRm.png\")\n",
    "#b = os.listdir('./notMNIST_small/A')"
   ]
  },
  {
   "cell_type": "code",
   "execution_count": 44,
   "metadata": {},
   "outputs": [
    {
     "data": {
      "image/png": "[encoded data removed]",
      "text/plain": [
       "<Figure size 432x288 with 1 Axes>"
      ]
     },
     "metadata": {
      "needs_background": "light"
     },
     "output_type": "display_data"
    }
   ],
   "source": [
    "Image(filename=\"./notMNIST_large/A/a2F6b28udHRm.png\")\n",
    "train_datasets\n",
    "test_datasets\n",
    "pickle_file = train_datasets[0]  # index 0 should be all As, 1 = all Bs, etc.\n",
    "with open(pickle_file, 'rb') as f:\n",
    "    letter_set = pickle.load(f)  # unpickle\n",
    "    sample_idx = np.random.randint(len(letter_set))  # pick a random image index\n",
    "    sample_image = letter_set[sample_idx, :, :]  # extract a 2D slice\n",
    "    plt.figure()\n",
    "    plt.imshow(sample_image)\n"
   ]
  },
  {
   "cell_type": "code",
   "execution_count": 5,
   "metadata": {},
   "outputs": [
    {
     "name": "stdout",
     "output_type": "stream",
     "text": [
      "Training: (230000, 28, 28) (230000,)\n",
      "Validation: (10000, 28, 28) (10000,)\n",
      "Testing: (10000, 28, 28) (10000,)\n"
     ]
    }
   ],
   "source": [
    "def make_arrays(nb_rows, img_size):\n",
    "  if nb_rows:\n",
    "    dataset = np.ndarray((nb_rows, img_size, img_size), dtype=np.float32)\n",
    "    labels = np.ndarray(nb_rows, dtype=np.int32)\n",
    "  else:\n",
    "    dataset, labels = None, None\n",
    "  return dataset, labels\n",
    "\n",
    "def merge_datasets(pickle_files, train_size, valid_size=0):\n",
    "  num_classes = len(pickle_files)\n",
    "  valid_dataset, valid_labels = make_arrays(valid_size, image_size)\n",
    "  train_dataset, train_labels = make_arrays(train_size, image_size)\n",
    "  vsize_per_class = valid_size // num_classes\n",
    "  tsize_per_class = train_size // num_classes\n",
    "    \n",
    "  start_v, start_t = 0, 0\n",
    "  end_v, end_t = vsize_per_class, tsize_per_class\n",
    "  end_l = vsize_per_class+tsize_per_class\n",
    "  for label, pickle_file in enumerate(pickle_files):       \n",
    "    try:\n",
    "      with open(pickle_file, 'rb') as f:\n",
    "        letter_set = pickle.load(f)\n",
    "        # let's shuffle the letters to have random validation and training set\n",
    "        np.random.shuffle(letter_set)\n",
    "        if valid_dataset is not None:\n",
    "          valid_letter = letter_set[:vsize_per_class, :, :]\n",
    "          valid_dataset[start_v:end_v, :, :] = valid_letter\n",
    "          valid_labels[start_v:end_v] = label\n",
    "          start_v += vsize_per_class\n",
    "          end_v += vsize_per_class\n",
    "                    \n",
    "        train_letter = letter_set[vsize_per_class:end_l, :, :]\n",
    "        train_dataset[start_t:end_t, :, :] = train_letter\n",
    "        train_labels[start_t:end_t] = label\n",
    "        start_t += tsize_per_class\n",
    "        end_t += tsize_per_class\n",
    "    except Exception as e:\n",
    "      print('Unable to process data from', pickle_file, ':', e)\n",
    "      raise\n",
    "    \n",
    "  return valid_dataset, valid_labels, train_dataset, train_labels\n",
    "            \n",
    "            \n",
    "train_size = 230000\n",
    "valid_size = 10000\n",
    "test_size = 10000\n",
    "\n",
    "valid_dataset, valid_labels, train_dataset, train_labels = merge_datasets(\n",
    "  train_datasets, train_size, valid_size)\n",
    "_, _, test_dataset, test_labels = merge_datasets(test_datasets, test_size)\n",
    "\n",
    "print('Training:', train_dataset.shape, train_labels.shape)\n",
    "print('Validation:', valid_dataset.shape, valid_labels.shape)\n",
    "print('Testing:', test_dataset.shape, test_labels.shape)"
   ]
  },
  {
   "cell_type": "code",
   "execution_count": 6,
   "metadata": {},
   "outputs": [],
   "source": [
    "def randomize(dataset, labels):\n",
    "  permutation = np.random.permutation(labels.shape[0])\n",
    "  shuffled_dataset = dataset[permutation,:,:]\n",
    "  shuffled_labels = labels[permutation]\n",
    "  return shuffled_dataset, shuffled_labels\n",
    "train_dataset, train_labels = randomize(train_dataset, train_labels)\n",
    "test_dataset, test_labels = randomize(test_dataset, test_labels)\n",
    "valid_dataset, valid_labels = randomize(valid_dataset, valid_labels)"
   ]
  },
  {
   "cell_type": "code",
   "execution_count": 20,
   "metadata": {},
   "outputs": [],
   "source": [
    "pickle_file = os.path.join(data_root, 'notMNIST.pickle')\n",
    "\n",
    "try:\n",
    "  f = open(pickle_file, 'wb')\n",
    "  save = {\n",
    "    'train_dataset': train_dataset,\n",
    "    'train_labels': train_labels,\n",
    "    'valid_dataset': valid_dataset,\n",
    "    'valid_labels': valid_labels,\n",
    "    'test_dataset': test_dataset,\n",
    "    'test_labels': test_labels,\n",
    "    }\n",
    "  pickle.dump(save, f, pickle.HIGHEST_PROTOCOL)\n",
    "  f.close()\n",
    "except Exception as e:\n",
    "  print('Unable to save data to', pickle_file, ':', e)\n",
    "  raise"
   ]
  },
  {
   "cell_type": "code",
   "execution_count": 48,
   "metadata": {},
   "outputs": [
    {
     "name": "stdout",
     "output_type": "stream",
     "text": [
      "Compressed pickle size: 1288844879\n"
     ]
    }
   ],
   "source": [
    "statinfo = os.stat(pickle_file)\n",
    "print('Compressed pickle size:', statinfo.st_size)"
   ]
  },
  {
   "cell_type": "code",
   "execution_count": 2,
   "metadata": {},
   "outputs": [],
   "source": [
    "# read pickle file\n",
    "with open('notMNIST_cor1.pickle', 'rb') as f:\n",
    "    dataset = pickle.load(f)\n",
    "dataset_key = dataset.keys()\n",
    "\n",
    "train_dataset, train_labels = dataset['train_dataset'], dataset['train_labels']\n",
    "valid_dataset, valid_labels = dataset['valid_dataset'], dataset['valid_labels']\n",
    "test_dataset, test_labels = dataset['test_dataset'], dataset['test_labels']\n",
    "\n",
    "del dataset\n",
    "\n",
    "# merge valid_dataset and test_dataset\n",
    "# test_dataset, test_labels = np.concatenate((valid_dataset, test_dataset), axis=0), np.concatenate((valid_labels, test_labels), axis=0)\n",
    "# print(test_dataset.shape, test_labels.shape)"
   ]
  },
  {
   "cell_type": "code",
   "execution_count": 36,
   "metadata": {},
   "outputs": [
    {
     "data": {
      "image/png": "[encoded data removed]",
      "text/plain": [
       "<Figure size 432x288 with 1 Axes>"
      ]
     },
     "metadata": {
      "needs_background": "light"
     },
     "output_type": "display_data"
    },
    {
     "name": "stdout",
     "output_type": "stream",
     "text": [
      "label 6.0\n"
     ]
    },
    {
     "data": {
      "image/png": "[encoded data removed]",
      "text/plain": [
       "<Figure size 432x288 with 1 Axes>"
      ]
     },
     "metadata": {
      "needs_background": "light"
     },
     "output_type": "display_data"
    },
    {
     "name": "stdout",
     "output_type": "stream",
     "text": [
      "label 9.0\n"
     ]
    }
   ],
   "source": [
    "# убеждаюсь, что метки  и изображения совпадают\n",
    "plt.imshow(test_dataset[10, : :])\n",
    "plt.show()\n",
    "\n",
    "print(\"label {}\".format(test_labels[10]))\n",
    "\n",
    "plt.imshow(train_dataset[10020, : :])\n",
    "plt.show()\n",
    "\n",
    "print(\"label {}\".format(train_labels[10020]))"
   ]
  },
  {
   "cell_type": "code",
   "execution_count": 8,
   "metadata": {},
   "outputs": [
    {
     "name": "stdout",
     "output_type": "stream",
     "text": [
      "Введите размеры m подмножеств train, cv, через запятую:200000 15000\n",
      "Training: (200000, 28, 28) (200000,)\n",
      "Validation: (15000, 28, 28) (15000,)\n",
      "Testing: (16355, 28, 28) (16355,)\n"
     ]
    }
   ],
   "source": [
    "# избавимся от перекрытий между множества train cv test\n",
    "# вытигиваем изображения в вектор и добавляем метку\n",
    "new_train = np.concatenate((train_dataset.reshape(train_dataset.shape[0], -1), np.array([train_labels]).T), axis=1)\n",
    "new_valid = np.concatenate((valid_dataset.reshape(valid_dataset.shape[0], -1), np.array([valid_labels]).T), axis=1)\n",
    "new_test = np.concatenate((test_dataset.reshape(test_dataset.shape[0], -1), np.array([test_labels]).T), axis=1)\n",
    "new_big_matrix = np.concatenate((new_train, new_valid, new_test))\n",
    "shapes = new_big_matrix.shape[0]\n",
    "\n",
    "#объединяем все в 1 большой массив\n",
    "new_big_matrix = np.concatenate((new_train, new_valid, new_test))\n",
    "new_big_matrix = np.unique(new_big_matrix, axis=0)\n",
    "\n",
    "print(\"Количество повторных изображений {}\".format(shapes - new_big_matrix.shape[0]))\n",
    "print(\"Всего количество примеров {}\".format(new_big_matrix.shape[0]))\n",
    "train_ex, valid_ex = map(int, input(\"Введите размеры m подмножеств train, cv, через пробел:\").split())\n",
    "\n",
    "# перемешиваем примеры\n",
    "np.random.shuffle(new_big_matrix)\n",
    "# new_big_matrix.shape\n",
    "\n",
    "# формируем метки\n",
    "train_labels, valid_labels, test_labels = new_big_matrix[0:train_ex, 784], new_big_matrix[train_ex:(train_ex + valid_ex), 784], new_big_matrix[(train_ex + valid_ex):, 784]\n",
    "new_big_matrix = new_big_matrix[:, :784]\n",
    "\n",
    "big_matrix = np.zeros((new_big_matrix.shape[0], 28, 28))\n",
    "\n",
    "for i in range(big_matrix.shape[0]):\n",
    "    big_matrix[i] = new_big_matrix[i].reshape(28, 28)\n",
    "# формируем изображения\n",
    "train_dataset = big_matrix[0:train_ex]\n",
    "valid_dataset = big_matrix[train_ex:(train_ex + valid_ex)]\n",
    "test_dataset = big_matrix[(train_ex + valid_ex):]\n",
    "\n",
    "print('Training:', train_dataset.shape, train_labels.shape)\n",
    "print('Validation:', valid_dataset.shape, valid_labels.shape)\n",
    "print('Testing:', test_dataset.shape, test_labels.shape)"
   ]
  },
  {
   "cell_type": "code",
   "execution_count": 9,
   "metadata": {},
   "outputs": [],
   "source": [
    "# запись корректных данных\n",
    "data_root = '.'\n",
    "pickle_file = os.path.join(data_root, 'notMNIST_cor1.pickle')\n",
    "\n",
    "try:\n",
    "  f = open(pickle_file, 'wb')\n",
    "  save = {\n",
    "    'train_dataset': train_dataset,\n",
    "    'train_labels': train_labels,\n",
    "    'valid_dataset': valid_dataset,\n",
    "    'valid_labels': valid_labels,\n",
    "    'test_dataset': test_dataset,\n",
    "    'test_labels': test_labels,\n",
    "    }\n",
    "  pickle.dump(save, f, pickle.HIGHEST_PROTOCOL)\n",
    "  f.close()\n",
    "except Exception as e:\n",
    "  print('Unable to save data to', pickle_file, ':', e)\n",
    "  raise"
   ]
  },
  {
   "cell_type": "code",
   "execution_count": 29,
   "metadata": {},
   "outputs": [
    {
     "data": {
      "image/png": "[encoded data removed]",
      "text/plain": [
       "<Figure size 432x288 with 1 Axes>"
      ]
     },
     "metadata": {
      "needs_background": "light"
     },
     "output_type": "display_data"
    },
    {
     "name": "stdout",
     "output_type": "stream",
     "text": [
      "label 6.0\n"
     ]
    }
   ],
   "source": [
    "# проверка, что все было сделано верно по работе с удаленным пересающихся примеров\n",
    "plt.imshow(valid_dataset[400])\n",
    "plt.show()\n",
    "\n",
    "print('label {}'.format(valid_labels[400]))"
   ]
  },
  {
   "cell_type": "code",
   "execution_count": 8,
   "metadata": {},
   "outputs": [
    {
     "name": "stderr",
     "output_type": "stream",
     "text": [
      "[Parallel(n_jobs=1)]: Using backend SequentialBackend with 1 concurrent workers.\n",
      "[Parallel(n_jobs=1)]: Done   1 out of   1 | elapsed: 22.0min finished\n"
     ]
    },
    {
     "name": "stdout",
     "output_type": "stream",
     "text": [
      "В качестве оптимизатора newton-cg. Доля правильных ответов на обучающей выборки 0.83493\n",
      "Доля правильных ответов на кросс валидации 0.8336\n"
     ]
    },
    {
     "name": "stderr",
     "output_type": "stream",
     "text": [
      "[Parallel(n_jobs=1)]: Using backend SequentialBackend with 1 concurrent workers.\n",
      "d:\\учёба\\магистратура\\____аспирантура\\___keras\\venv\\lib\\site-packages\\sklearn\\linear_model\\logistic.py:758: ConvergenceWarning: lbfgs failed to converge. Increase the number of iterations.\n",
      "  \"of iterations.\", ConvergenceWarning)\n",
      "[Parallel(n_jobs=1)]: Done   1 out of   1 | elapsed:   45.5s finished\n"
     ]
    },
    {
     "name": "stdout",
     "output_type": "stream",
     "text": [
      "В качестве оптимизатора lbfgs. Доля правильных ответов на обучающей выборки 0.831265\n",
      "Доля правильных ответов на кросс валидации 0.8347333333333333\n"
     ]
    },
    {
     "name": "stderr",
     "output_type": "stream",
     "text": [
      "[Parallel(n_jobs=1)]: Using backend SequentialBackend with 1 concurrent workers.\n"
     ]
    },
    {
     "name": "stdout",
     "output_type": "stream",
     "text": [
      "max_iter reached after 369 seconds\n"
     ]
    },
    {
     "name": "stderr",
     "output_type": "stream",
     "text": [
      "d:\\учёба\\магистратура\\____аспирантура\\___keras\\venv\\lib\\site-packages\\sklearn\\linear_model\\sag.py:334: ConvergenceWarning: The max_iter was reached which means the coef_ did not converge\n",
      "  \"the coef_ did not converge\", ConvergenceWarning)\n",
      "[Parallel(n_jobs=1)]: Done   1 out of   1 | elapsed:  6.1min finished\n"
     ]
    },
    {
     "name": "stdout",
     "output_type": "stream",
     "text": [
      "В качестве оптимизатора sag. Доля правильных ответов на обучающей выборки 0.834955\n",
      "Доля правильных ответов на кросс валидации 0.8337333333333333\n"
     ]
    },
    {
     "name": "stderr",
     "output_type": "stream",
     "text": [
      "[Parallel(n_jobs=1)]: Using backend SequentialBackend with 1 concurrent workers.\n"
     ]
    },
    {
     "name": "stdout",
     "output_type": "stream",
     "text": [
      "max_iter reached after 887 seconds\n"
     ]
    },
    {
     "name": "stderr",
     "output_type": "stream",
     "text": [
      "d:\\учёба\\магистратура\\____аспирантура\\___keras\\venv\\lib\\site-packages\\sklearn\\linear_model\\sag.py:334: ConvergenceWarning: The max_iter was reached which means the coef_ did not converge\n",
      "  \"the coef_ did not converge\", ConvergenceWarning)\n",
      "[Parallel(n_jobs=1)]: Done   1 out of   1 | elapsed: 14.8min finished\n"
     ]
    },
    {
     "name": "stdout",
     "output_type": "stream",
     "text": [
      "В качестве оптимизатора saga. Доля правильных ответов на обучающей выборки 0.834945\n",
      "Доля правильных ответов на кросс валидации 0.8335333333333333\n"
     ]
    }
   ],
   "source": [
    "# Multinomial LogisticRegression\n",
    "from sklearn.model_selection import learning_curve\n",
    "\n",
    "params = [{'solver': 'newton-cg'},\n",
    "          {'solver': 'lbfgs'},\n",
    "          {'solver': 'sag'},\n",
    "          {'solver': 'saga'}]\n",
    "clfs = []\n",
    "for param in params:\n",
    "    clf = LogisticRegression(random_state=1, multi_class='multinomial', verbose=True, max_iter = 50, tol=1e-4 , **param).fit(\n",
    "        train_dataset.reshape(train_dataset.shape[0], -1), train_labels)\n",
    "    clfs.append(clf)\n",
    "\n",
    "#     print(\"Первые 10 меток на обучение {}\".format(train_labels[0:10]))\n",
    "#     print(\"Первые 10 предсказанных меток на обучение {}\".format(clf.predict(train_dataset.reshape(train_dataset.shape[0], -1))[0:10]))\n",
    "#     print(\"Первые 10 меток на тесте {}\".format(test_labels[0:10]))\n",
    "#     print(\"Первые 10 предсказанных меток на тесте {}\".format(clf.predict(test_dataset.reshape(test_dataset.shape[0], -1))[0:10]))\n",
    "    print(\"В качестве оптимизатора {}. Доля правильных ответов на обучающей выборки {}\".format(param.get('solver'), clf.score(train_dataset.reshape(train_dataset.shape[0], -1), train_labels)))\n",
    "    print(\"Доля правильных ответов на кросс валидации {}\".format(clf.score(valid_dataset.reshape(valid_dataset.shape[0], -1), valid_labels)))\n",
    "\n",
    "\n",
    "    "
   ]
  },
  {
   "cell_type": "code",
   "execution_count": 12,
   "metadata": {},
   "outputs": [
    {
     "name": "stdout",
     "output_type": "stream",
     "text": [
      "Доля правильных ответов на тестововм множестве 0.8316111280953836\n"
     ]
    }
   ],
   "source": [
    "print(\"Доля правильных ответов на тестововм множестве {}\".format(clfs[1].score(test_dataset.reshape(test_dataset.shape[0], -1), test_labels)))"
   ]
  },
  {
   "cell_type": "code",
   "execution_count": 34,
   "metadata": {},
   "outputs": [
    {
     "name": "stdout",
     "output_type": "stream",
     "text": [
      "Iteration 1, loss = 0.55478703\n",
      "Validation score: 0.859600\n",
      "Iteration 2, loss = 0.44704353\n",
      "Validation score: 0.870200\n",
      "Iteration 3, loss = 0.41410900\n",
      "Validation score: 0.874800\n",
      "Iteration 4, loss = 0.39424671\n",
      "Validation score: 0.875950\n",
      "Iteration 5, loss = 0.37982959\n",
      "Validation score: 0.875150\n",
      "Iteration 6, loss = 0.36890363\n",
      "Validation score: 0.880350\n",
      "Iteration 7, loss = 0.35914226\n",
      "Validation score: 0.877950\n",
      "Iteration 8, loss = 0.35242763\n",
      "Validation score: 0.881550\n",
      "Iteration 9, loss = 0.34648661\n",
      "Validation score: 0.879300\n",
      "Iteration 10, loss = 0.33980382\n",
      "Validation score: 0.883000\n",
      "Iteration 11, loss = 0.33543231\n",
      "Validation score: 0.883350\n",
      "Iteration 12, loss = 0.33047205\n",
      "Validation score: 0.882900\n",
      "Iteration 13, loss = 0.32667025\n",
      "Validation score: 0.883600\n",
      "Iteration 14, loss = 0.32250309\n",
      "Validation score: 0.881700\n",
      "Iteration 15, loss = 0.31926091\n",
      "Validation score: 0.882300\n",
      "Iteration 16, loss = 0.31597355\n",
      "Validation score: 0.884300\n",
      "Iteration 17, loss = 0.31301513\n",
      "Validation score: 0.881850\n",
      "Iteration 18, loss = 0.31008644\n",
      "Validation score: 0.884450\n",
      "Iteration 19, loss = 0.30779457\n",
      "Validation score: 0.885350\n",
      "Iteration 20, loss = 0.30489023\n",
      "Validation score: 0.880700\n",
      "Iteration 21, loss = 0.30280348\n",
      "Validation score: 0.882400\n",
      "Iteration 22, loss = 0.29984172\n",
      "Validation score: 0.884350\n",
      "Iteration 23, loss = 0.29837468\n",
      "Validation score: 0.884400\n",
      "Iteration 24, loss = 0.29544803\n",
      "Validation score: 0.882200\n",
      "Iteration 25, loss = 0.29344641\n",
      "Validation score: 0.880700\n",
      "Iteration 26, loss = 0.29215536\n",
      "Validation score: 0.883800\n",
      "Iteration 27, loss = 0.28951844\n",
      "Validation score: 0.883750\n",
      "Iteration 28, loss = 0.28809935\n",
      "Validation score: 0.883750\n",
      "Iteration 29, loss = 0.28604236\n",
      "Validation score: 0.881450\n",
      "Iteration 30, loss = 0.28476480\n",
      "Validation score: 0.882850\n"
     ]
    },
    {
     "name": "stderr",
     "output_type": "stream",
     "text": [
      "d:\\учёба\\магистратура\\____аспирантура\\___keras\\venv\\lib\\site-packages\\sklearn\\neural_network\\multilayer_perceptron.py:562: ConvergenceWarning: Stochastic Optimizer: Maximum iterations (30) reached and the optimization hasn't converged yet.\n",
      "  % self.max_iter, ConvergenceWarning)\n"
     ]
    },
    {
     "name": "stdout",
     "output_type": "stream",
     "text": [
      "В качестве оптимизатора adam. Доля правильных ответов на обучающей выборки 0.90735\n",
      "Доля правильных ответов на кросс валидации 0.8828\n",
      "Iteration 1, loss = 0.76542173\n",
      "Validation score: 0.838250\n",
      "Iteration 2, loss = 0.50650147\n",
      "Validation score: 0.847900\n",
      "Iteration 3, loss = 0.47800102\n",
      "Validation score: 0.852650\n",
      "Iteration 4, loss = 0.46176136\n",
      "Validation score: 0.854600\n",
      "Iteration 5, loss = 0.44926834\n",
      "Validation score: 0.857850\n",
      "Iteration 6, loss = 0.44182448\n",
      "Validation score: 0.857300\n",
      "Iteration 7, loss = 0.43486824\n",
      "Validation score: 0.859900\n",
      "Iteration 8, loss = 0.42878968\n",
      "Validation score: 0.860600\n",
      "Iteration 9, loss = 0.42404666\n",
      "Validation score: 0.862000\n",
      "Iteration 10, loss = 0.42152109\n",
      "Validation score: 0.863400\n",
      "Iteration 11, loss = 0.41785934\n",
      "Validation score: 0.862000\n",
      "Iteration 12, loss = 0.41271164\n",
      "Validation score: 0.861200\n",
      "Iteration 13, loss = 0.41026679\n",
      "Validation score: 0.864250\n",
      "Iteration 14, loss = 0.40617775\n",
      "Validation score: 0.863450\n",
      "Iteration 15, loss = 0.40367954\n",
      "Validation score: 0.865900\n",
      "Iteration 16, loss = 0.40016607\n",
      "Validation score: 0.864700\n",
      "Iteration 17, loss = 0.39972644\n",
      "Validation score: 0.865950\n",
      "Iteration 18, loss = 0.39729769\n",
      "Validation score: 0.864550\n",
      "Iteration 19, loss = 0.39595725\n",
      "Validation score: 0.864900\n",
      "Iteration 20, loss = 0.39258546\n",
      "Validation score: 0.866000\n",
      "Iteration 21, loss = 0.38932964\n",
      "Validation score: 0.864450\n",
      "Iteration 22, loss = 0.38773286\n",
      "Validation score: 0.865400\n",
      "Iteration 23, loss = 0.38760126\n",
      "Validation score: 0.864750\n",
      "Iteration 24, loss = 0.38630233\n",
      "Validation score: 0.866150\n",
      "Iteration 25, loss = 0.38464722\n",
      "Validation score: 0.864600\n",
      "Iteration 26, loss = 0.38335374\n",
      "Validation score: 0.868000\n",
      "Iteration 27, loss = 0.38089017\n",
      "Validation score: 0.866300\n",
      "Iteration 28, loss = 0.38087582\n",
      "Validation score: 0.865050\n",
      "Iteration 29, loss = 0.37966149\n",
      "Validation score: 0.866450\n",
      "Iteration 30, loss = 0.37943466\n",
      "Validation score: 0.866300\n"
     ]
    },
    {
     "name": "stderr",
     "output_type": "stream",
     "text": [
      "d:\\учёба\\магистратура\\____аспирантура\\___keras\\venv\\lib\\site-packages\\sklearn\\neural_network\\multilayer_perceptron.py:562: ConvergenceWarning: Stochastic Optimizer: Maximum iterations (30) reached and the optimization hasn't converged yet.\n",
      "  % self.max_iter, ConvergenceWarning)\n"
     ]
    },
    {
     "name": "stdout",
     "output_type": "stream",
     "text": [
      "В качестве оптимизатора adam. Доля правильных ответов на обучающей выборки 0.88361\n",
      "Доля правильных ответов на кросс валидации 0.8654\n",
      "Iteration 1, loss = 0.59873646\n",
      "Validation score: 0.838850\n",
      "Iteration 2, loss = 0.51867522\n",
      "Validation score: 0.844950\n",
      "Iteration 3, loss = 0.50533615\n",
      "Validation score: 0.845150\n",
      "Iteration 4, loss = 0.50256874\n",
      "Validation score: 0.848700\n",
      "Iteration 5, loss = 0.49563086\n",
      "Validation score: 0.848250\n",
      "Iteration 6, loss = 0.49179727\n",
      "Validation score: 0.851900\n",
      "Iteration 7, loss = 0.49190756\n",
      "Validation score: 0.850000\n",
      "Iteration 8, loss = 0.49161707\n",
      "Validation score: 0.852550\n",
      "Iteration 9, loss = 0.49289682\n",
      "Validation score: 0.851450\n",
      "Iteration 10, loss = 0.48982260\n",
      "Validation score: 0.854650\n",
      "Iteration 11, loss = 0.48763244\n",
      "Validation score: 0.848800\n",
      "Iteration 12, loss = 0.49046664\n",
      "Validation score: 0.852850\n",
      "Iteration 13, loss = 0.48883708\n",
      "Validation score: 0.853700\n",
      "Iteration 14, loss = 0.49003973\n",
      "Validation score: 0.852200\n",
      "Iteration 15, loss = 0.48767714\n",
      "Validation score: 0.854300\n",
      "Iteration 16, loss = 0.48865043\n",
      "Validation score: 0.856400\n",
      "Iteration 17, loss = 0.48648497\n",
      "Validation score: 0.854150\n",
      "Iteration 18, loss = 0.48730417\n",
      "Validation score: 0.855650\n",
      "Iteration 19, loss = 0.48391720\n",
      "Validation score: 0.856550\n",
      "Iteration 20, loss = 0.48777283\n",
      "Validation score: 0.853400\n",
      "Iteration 21, loss = 0.48763469\n",
      "Validation score: 0.856250\n",
      "Iteration 22, loss = 0.48510185\n",
      "Validation score: 0.853650\n",
      "Iteration 23, loss = 0.48903598\n",
      "Validation score: 0.853900\n",
      "Iteration 24, loss = 0.48718193\n",
      "Validation score: 0.856300\n",
      "Iteration 25, loss = 0.48805053\n",
      "Validation score: 0.855950\n",
      "Iteration 26, loss = 0.48731384\n",
      "Validation score: 0.855250\n",
      "Iteration 27, loss = 0.48470535\n",
      "Validation score: 0.852400\n",
      "Iteration 28, loss = 0.49117250\n",
      "Validation score: 0.854100\n",
      "Iteration 29, loss = 0.48538336\n",
      "Validation score: 0.856050\n",
      "Iteration 30, loss = 0.48725885\n",
      "Validation score: 0.855550\n"
     ]
    },
    {
     "name": "stderr",
     "output_type": "stream",
     "text": [
      "d:\\учёба\\магистратура\\____аспирантура\\___keras\\venv\\lib\\site-packages\\sklearn\\neural_network\\multilayer_perceptron.py:562: ConvergenceWarning: Stochastic Optimizer: Maximum iterations (30) reached and the optimization hasn't converged yet.\n",
      "  % self.max_iter, ConvergenceWarning)\n"
     ]
    },
    {
     "name": "stdout",
     "output_type": "stream",
     "text": [
      "В качестве оптимизатора adam. Доля правильных ответов на обучающей выборки 0.86309\n",
      "Доля правильных ответов на кросс валидации 0.8584\n",
      "Iteration 1, loss = 1.48825373\n",
      "Validation score: 0.787300\n",
      "Iteration 2, loss = 0.75866498\n",
      "Validation score: 0.818700\n",
      "Iteration 3, loss = 0.65823531\n",
      "Validation score: 0.829750\n",
      "Iteration 4, loss = 0.60907450\n",
      "Validation score: 0.836300\n",
      "Iteration 5, loss = 0.57729980\n",
      "Validation score: 0.841750\n",
      "Iteration 6, loss = 0.55392379\n",
      "Validation score: 0.846050\n",
      "Iteration 7, loss = 0.53581010\n",
      "Validation score: 0.848850\n",
      "Iteration 8, loss = 0.52098812\n",
      "Validation score: 0.851350\n",
      "Iteration 9, loss = 0.50816827\n",
      "Validation score: 0.852950\n",
      "Iteration 10, loss = 0.49680640\n",
      "Validation score: 0.855100\n",
      "Iteration 11, loss = 0.48686564\n",
      "Validation score: 0.855400\n",
      "Iteration 12, loss = 0.47793093\n",
      "Validation score: 0.858250\n",
      "Iteration 13, loss = 0.46963021\n",
      "Validation score: 0.859700\n",
      "Iteration 14, loss = 0.46233744\n",
      "Validation score: 0.860700\n",
      "Iteration 15, loss = 0.45564910\n",
      "Validation score: 0.862200\n",
      "Iteration 16, loss = 0.44952225\n",
      "Validation score: 0.864600\n",
      "Iteration 17, loss = 0.44366711\n",
      "Validation score: 0.865250\n",
      "Iteration 18, loss = 0.43837920\n",
      "Validation score: 0.865750\n",
      "Iteration 19, loss = 0.43336780\n",
      "Validation score: 0.868350\n",
      "Iteration 20, loss = 0.42868605\n",
      "Validation score: 0.868300\n",
      "Iteration 21, loss = 0.42433089\n",
      "Validation score: 0.869500\n",
      "Iteration 22, loss = 0.42019818\n",
      "Validation score: 0.870150\n",
      "Iteration 23, loss = 0.41627531\n",
      "Validation score: 0.870100\n",
      "Iteration 24, loss = 0.41243112\n",
      "Validation score: 0.871550\n",
      "Iteration 25, loss = 0.40895247\n",
      "Validation score: 0.871850\n",
      "Iteration 26, loss = 0.40562685\n",
      "Validation score: 0.872400\n",
      "Iteration 27, loss = 0.40243527\n",
      "Validation score: 0.872950\n",
      "Iteration 28, loss = 0.39925857\n",
      "Validation score: 0.873700\n",
      "Iteration 29, loss = 0.39659308\n",
      "Validation score: 0.874650\n",
      "Iteration 30, loss = 0.39382977\n",
      "Validation score: 0.874600\n"
     ]
    },
    {
     "name": "stderr",
     "output_type": "stream",
     "text": [
      "d:\\учёба\\магистратура\\____аспирантура\\___keras\\venv\\lib\\site-packages\\sklearn\\neural_network\\multilayer_perceptron.py:562: ConvergenceWarning: Stochastic Optimizer: Maximum iterations (30) reached and the optimization hasn't converged yet.\n",
      "  % self.max_iter, ConvergenceWarning)\n"
     ]
    },
    {
     "name": "stdout",
     "output_type": "stream",
     "text": [
      "В качестве оптимизатора sgd. Доля правильных ответов на обучающей выборки 0.883065\n",
      "Доля правильных ответов на кросс валидации 0.8744\n",
      "Iteration 1, loss = 0.61334801\n",
      "Validation score: 0.853100\n",
      "Iteration 2, loss = 0.46363506\n",
      "Validation score: 0.862300\n",
      "Iteration 3, loss = 0.42869953\n",
      "Validation score: 0.871250\n",
      "Iteration 4, loss = 0.40842730\n",
      "Validation score: 0.871850\n",
      "Iteration 5, loss = 0.39368831\n",
      "Validation score: 0.876700\n",
      "Iteration 6, loss = 0.38338548\n",
      "Validation score: 0.877300\n",
      "Iteration 7, loss = 0.37460301\n",
      "Validation score: 0.878950\n",
      "Iteration 8, loss = 0.36796878\n",
      "Validation score: 0.880100\n",
      "Iteration 9, loss = 0.36124247\n",
      "Validation score: 0.878700\n",
      "Iteration 10, loss = 0.35566074\n",
      "Validation score: 0.879050\n",
      "Iteration 11, loss = 0.35201831\n",
      "Validation score: 0.880050\n",
      "Iteration 12, loss = 0.34747837\n",
      "Validation score: 0.881200\n",
      "Iteration 13, loss = 0.34323860\n",
      "Validation score: 0.882650\n",
      "Iteration 14, loss = 0.34037782\n",
      "Validation score: 0.880950\n",
      "Iteration 15, loss = 0.33585265\n",
      "Validation score: 0.882500\n",
      "Iteration 16, loss = 0.33314549\n",
      "Validation score: 0.882700\n",
      "Iteration 17, loss = 0.33100508\n",
      "Validation score: 0.882000\n",
      "Iteration 18, loss = 0.32797765\n",
      "Validation score: 0.882300\n",
      "Iteration 19, loss = 0.32550834\n",
      "Validation score: 0.883750\n",
      "Iteration 20, loss = 0.32308192\n",
      "Validation score: 0.884350\n",
      "Iteration 21, loss = 0.31993597\n",
      "Validation score: 0.883050\n",
      "Iteration 22, loss = 0.31843770\n",
      "Validation score: 0.885450\n",
      "Iteration 23, loss = 0.31631508\n",
      "Validation score: 0.882550\n",
      "Iteration 24, loss = 0.31435404\n",
      "Validation score: 0.884450\n",
      "Iteration 25, loss = 0.31321220\n",
      "Validation score: 0.882000\n",
      "Iteration 26, loss = 0.31022182\n",
      "Validation score: 0.882200\n",
      "Iteration 27, loss = 0.30909618\n",
      "Validation score: 0.881900\n",
      "Iteration 28, loss = 0.30772857\n",
      "Validation score: 0.882600\n",
      "Iteration 29, loss = 0.30621214\n",
      "Validation score: 0.882250\n",
      "Iteration 30, loss = 0.30454785\n",
      "Validation score: 0.883750\n"
     ]
    },
    {
     "name": "stderr",
     "output_type": "stream",
     "text": [
      "d:\\учёба\\магистратура\\____аспирантура\\___keras\\venv\\lib\\site-packages\\sklearn\\neural_network\\multilayer_perceptron.py:562: ConvergenceWarning: Stochastic Optimizer: Maximum iterations (30) reached and the optimization hasn't converged yet.\n",
      "  % self.max_iter, ConvergenceWarning)\n"
     ]
    },
    {
     "name": "stdout",
     "output_type": "stream",
     "text": [
      "В качестве оптимизатора sgd. Доля правильных ответов на обучающей выборки 0.90417\n",
      "Доля правильных ответов на кросс валидации 0.8826\n",
      "Iteration 1, loss = 0.69044118\n",
      "Validation score: 0.843500\n",
      "Iteration 2, loss = 0.52367392\n",
      "Validation score: 0.848200\n",
      "Iteration 3, loss = 0.48508996\n",
      "Validation score: 0.855200\n",
      "Iteration 4, loss = 0.45911903\n",
      "Validation score: 0.861700\n",
      "Iteration 5, loss = 0.43997848\n",
      "Validation score: 0.865000\n",
      "Iteration 6, loss = 0.42476439\n",
      "Validation score: 0.867100\n",
      "Iteration 7, loss = 0.41227654\n",
      "Validation score: 0.869200\n",
      "Iteration 8, loss = 0.40145405\n",
      "Validation score: 0.870150\n",
      "Iteration 9, loss = 0.39229430\n",
      "Validation score: 0.872250\n",
      "Iteration 10, loss = 0.38485851\n",
      "Validation score: 0.871950\n",
      "Iteration 11, loss = 0.37774843\n",
      "Validation score: 0.873200\n",
      "Iteration 12, loss = 0.37168232\n",
      "Validation score: 0.873100\n",
      "Iteration 13, loss = 0.36547863\n",
      "Validation score: 0.873300\n",
      "Iteration 14, loss = 0.36103101\n",
      "Validation score: 0.876950\n",
      "Iteration 15, loss = 0.35635849\n",
      "Validation score: 0.876900\n",
      "Iteration 16, loss = 0.35185570\n",
      "Validation score: 0.877200\n",
      "Iteration 17, loss = 0.34796986\n",
      "Validation score: 0.874450\n",
      "Iteration 18, loss = 0.34452576\n",
      "Validation score: 0.875850\n",
      "Iteration 19, loss = 0.34056281\n",
      "Validation score: 0.876800\n",
      "Iteration 20, loss = 0.33774931\n",
      "Validation score: 0.875950\n",
      "Iteration 21, loss = 0.33462823\n",
      "Validation score: 0.876400\n",
      "Iteration 22, loss = 0.33157883\n",
      "Validation score: 0.878350\n",
      "Iteration 23, loss = 0.32906348\n",
      "Validation score: 0.876100\n",
      "Iteration 24, loss = 0.32621990\n",
      "Validation score: 0.878050\n",
      "Iteration 25, loss = 0.32352596\n",
      "Validation score: 0.877100\n",
      "Iteration 26, loss = 0.32137655\n",
      "Validation score: 0.878200\n",
      "Iteration 27, loss = 0.31947358\n",
      "Validation score: 0.877900\n",
      "Iteration 28, loss = 0.31665994\n",
      "Validation score: 0.877200\n",
      "Iteration 29, loss = 0.31488946\n",
      "Validation score: 0.879050\n",
      "Iteration 30, loss = 0.31231949\n",
      "Validation score: 0.876350\n"
     ]
    },
    {
     "name": "stderr",
     "output_type": "stream",
     "text": [
      "d:\\учёба\\магистратура\\____аспирантура\\___keras\\venv\\lib\\site-packages\\sklearn\\neural_network\\multilayer_perceptron.py:562: ConvergenceWarning: Stochastic Optimizer: Maximum iterations (30) reached and the optimization hasn't converged yet.\n",
      "  % self.max_iter, ConvergenceWarning)\n"
     ]
    },
    {
     "name": "stdout",
     "output_type": "stream",
     "text": [
      "В качестве оптимизатора sgd. Доля правильных ответов на обучающей выборки 0.902725\n",
      "Доля правильных ответов на кросс валидации 0.8754\n",
      "В качестве оптимизатора lbfgs. Доля правильных ответов на обучающей выборки 0.85127\n",
      "Доля правильных ответов на кросс валидации 0.8514\n",
      "В качестве оптимизатора lbfgs. Доля правильных ответов на обучающей выборки 0.84554\n",
      "Доля правильных ответов на кросс валидации 0.8456\n"
     ]
    }
   ],
   "source": [
    "import sklearn\n",
    "\n",
    "from sklearn.neural_network import MLPClassifier\n",
    "\n",
    "\n",
    "params = [{'solver': 'adam', 'alpha': 1e-05, 'batch_size': 128, 'beta_1': 0.9, 'beta_2': 0.999, 'epsilon': 1e-08, \n",
    "           'activation': 'relu', 'hidden_layer_sizes': (50, 30), 'shuffle': True, 'learning_rate_init': 0.001}, \n",
    "          {'solver': 'adam', 'alpha': 1e-04, 'batch_size': 256, 'beta_1': 0.92, 'epsilon': 1e-08, 'beta_2': 0.995, \n",
    "           'activation': 'logistic', 'hidden_layer_sizes': (40, 30, 20), 'shuffle': True, 'learning_rate_init': 0.01},\n",
    "          {'solver': 'adam', 'alpha': 1e-03, 'batch_size': 128, 'beta_1': 0.9, 'epsilon': 1e-08,'beta_2': 0.999,\n",
    "           'activation': 'tanh', 'shuffle': True, 'hidden_layer_sizes': ( 40, 40, 30, 20), 'learning_rate_init': 0.005},\n",
    "          {'solver': 'sgd', 'alpha': 1e-03, 'batch_size': 128, 'activation': 'logistic', \n",
    "           'momentum': 0.9, 'nesterovs_momentum': True,'shuffle': True, \n",
    "           'hidden_layer_sizes': (50, 30), 'learning_rate_init': 0.01},\n",
    "          {'solver': 'sgd', 'alpha': 1e-04, 'batch_size': 128, 'activation': 'relu', \n",
    "           'momentum': 0.92, 'nesterovs_momentum': False,'shuffle': True, \n",
    "           'hidden_layer_sizes': (40, 30, 20), 'learning_rate_init': 0.01},\n",
    "          {'solver': 'sgd', 'alpha': 1e-03, 'batch_size': 128, 'activation': 'tanh', \n",
    "           'momentum': 0.92, 'nesterovs_momentum': True,'shuffle': True, \n",
    "           'hidden_layer_sizes': ( 40, 40, 30, 20), 'learning_rate_init': 0.005},\n",
    "          {'solver': 'lbfgs', 'alpha': 1e-05, 'activation': 'relu',\n",
    "           'hidden_layer_sizes': (50, 30), 'learning_rate_init': 0.001},\n",
    "          {'solver': 'lbfgs', 'alpha': 1e-04, 'activation': 'tanh', \n",
    "           'hidden_layer_sizes': (40, 30, 20), 'learning_rate_init': 0.01}]\n",
    "\n",
    "\n",
    "labels_adam = [\"adam1, architecture=(50, 30)\", \"adam2, architecture=(40, 30, 20)\",\"adam3, architecture=(40, 40, 30, 20)\"]\n",
    "labels_sgd = [\"sgd1, architecture=(50, 30)\", \"sgd2, architecture=(40, 30, 20)\",\"sgd3, architecture=(40, 40, 30, 20)\"]\n",
    "\n",
    "\n",
    "plot_args = [{'c': 'red', 'linestyle': '-'},\n",
    "             {'c': 'green', 'linestyle': '-'},\n",
    "             {'c': 'blue', 'linestyle': ':'}]\n",
    "\n",
    "clfs = []\n",
    "for param in params:\n",
    "    clf = MLPClassifier(early_stopping=True, max_iter=30, n_iter_no_change=20, tol=1e-5, random_state=1, \n",
    "                        validation_fraction=0.1, verbose=True, warm_start=False, **param)\n",
    "    clf.fit(train_dataset.reshape(train_dataset.shape[0], -1), train_labels)\n",
    "\n",
    "    print(\"В качестве оптимизатора {}. Доля правильных ответов на обучающей выборки {}\".format(param.get('solver'), clf.score(train_dataset.reshape(train_dataset.shape[0], -1), train_labels)))\n",
    "    print(\"Доля правильных ответов на кросс валидации {}\".format(clf.score(valid_dataset.reshape(valid_dataset.shape[0], -1), valid_labels)))\n",
    "\n",
    "    clfs.append(clf)\n"
   ]
  },
  {
   "cell_type": "code",
   "execution_count": 35,
   "metadata": {},
   "outputs": [
    {
     "data": {
      "image/png": "[encoded data removed]",
      "text/plain": [
       "<Figure size 432x288 with 1 Axes>"
      ]
     },
     "metadata": {
      "needs_background": "light"
     },
     "output_type": "display_data"
    },
    {
     "data": {
      "image/png": "[encoded data removed]",
      "text/plain": [
       "<Figure size 432x288 with 1 Axes>"
      ]
     },
     "metadata": {
      "needs_background": "light"
     },
     "output_type": "display_data"
    }
   ],
   "source": [
    "plot_args[0]\n",
    "plt.figure()\n",
    "plt.title(\"Adam\")\n",
    "plt.plot(clfs[0].loss_curve_, **plot_args[0])\n",
    "plt.plot(clfs[1].loss_curve_, **plot_args[1])\n",
    "plt.plot(clfs[2].loss_curve_, **plot_args[2])\n",
    "plt.xlabel('epoch')\n",
    "plt.ylabel('loss')\n",
    "plt.legend(labels_adam, loc='best')\n",
    "plt.show()\n",
    "\n",
    "\n",
    "plt.figure()\n",
    "plt.title(\"SGD\")\n",
    "plt.legend(labels_adam, loc='best')\n",
    "plt.plot(clfs[3].loss_curve_, **plot_args[0])\n",
    "plt.plot(clfs[4].loss_curve_, **plot_args[1])\n",
    "plt.plot(clfs[5].loss_curve_, **plot_args[2])\n",
    "plt.xlabel('epoch')\n",
    "plt.ylabel('loss')\n",
    "plt.legend(labels_sgd, loc='best')\n",
    "plt.show()\n"
   ]
  },
  {
   "cell_type": "code",
   "execution_count": 41,
   "metadata": {},
   "outputs": [
    {
     "name": "stdout",
     "output_type": "stream",
     "text": [
      "В качестве оптимизатора adam. Доля правильных ответов на обучающей выборки 0.851355\n",
      "Доля правильных ответов на кросс валидации 0.851\n"
     ]
    },
    {
     "name": "stderr",
     "output_type": "stream",
     "text": [
      "d:\\учёба\\магистратура\\____аспирантура\\___keras\\venv\\lib\\site-packages\\sklearn\\neural_network\\multilayer_perceptron.py:562: ConvergenceWarning: Stochastic Optimizer: Maximum iterations (50) reached and the optimization hasn't converged yet.\n",
      "  % self.max_iter, ConvergenceWarning)\n"
     ]
    },
    {
     "name": "stdout",
     "output_type": "stream",
     "text": [
      "В качестве оптимизатора adam. Доля правильных ответов на обучающей выборки 0.869635\n",
      "Доля правильных ответов на кросс валидации 0.8653\n",
      "В качестве оптимизатора adam. Доля правильных ответов на обучающей выборки 0.87242\n",
      "Доля правильных ответов на кросс валидации 0.8677\n"
     ]
    },
    {
     "name": "stderr",
     "output_type": "stream",
     "text": [
      "d:\\учёба\\магистратура\\____аспирантура\\___keras\\venv\\lib\\site-packages\\sklearn\\neural_network\\multilayer_perceptron.py:562: ConvergenceWarning: Stochastic Optimizer: Maximum iterations (50) reached and the optimization hasn't converged yet.\n",
      "  % self.max_iter, ConvergenceWarning)\n"
     ]
    },
    {
     "name": "stdout",
     "output_type": "stream",
     "text": [
      "В качестве оптимизатора adam. Доля правильных ответов на обучающей выборки 0.887485\n",
      "Доля правильных ответов на кросс валидации 0.8762\n"
     ]
    },
    {
     "name": "stderr",
     "output_type": "stream",
     "text": [
      "d:\\учёба\\магистратура\\____аспирантура\\___keras\\venv\\lib\\site-packages\\sklearn\\neural_network\\multilayer_perceptron.py:562: ConvergenceWarning: Stochastic Optimizer: Maximum iterations (50) reached and the optimization hasn't converged yet.\n",
      "  % self.max_iter, ConvergenceWarning)\n"
     ]
    },
    {
     "name": "stdout",
     "output_type": "stream",
     "text": [
      "В качестве оптимизатора adam. Доля правильных ответов на обучающей выборки 0.891005\n",
      "Доля правильных ответов на кросс валидации 0.8699\n",
      "В качестве оптимизатора adam. Доля правильных ответов на обучающей выборки 0.885995\n",
      "Доля правильных ответов на кросс валидации 0.8686\n"
     ]
    },
    {
     "name": "stderr",
     "output_type": "stream",
     "text": [
      "d:\\учёба\\магистратура\\____аспирантура\\___keras\\venv\\lib\\site-packages\\sklearn\\neural_network\\multilayer_perceptron.py:562: ConvergenceWarning: Stochastic Optimizer: Maximum iterations (50) reached and the optimization hasn't converged yet.\n",
      "  % self.max_iter, ConvergenceWarning)\n"
     ]
    },
    {
     "name": "stdout",
     "output_type": "stream",
     "text": [
      "В качестве оптимизатора adam. Доля правильных ответов на обучающей выборки 0.875735\n",
      "Доля правильных ответов на кросс валидации 0.8727\n"
     ]
    },
    {
     "name": "stderr",
     "output_type": "stream",
     "text": [
      "d:\\учёба\\магистратура\\____аспирантура\\___keras\\venv\\lib\\site-packages\\sklearn\\neural_network\\multilayer_perceptron.py:562: ConvergenceWarning: Stochastic Optimizer: Maximum iterations (50) reached and the optimization hasn't converged yet.\n",
      "  % self.max_iter, ConvergenceWarning)\n"
     ]
    },
    {
     "name": "stdout",
     "output_type": "stream",
     "text": [
      "В качестве оптимизатора adam. Доля правильных ответов на обучающей выборки 0.891415\n",
      "Доля правильных ответов на кросс валидации 0.8805\n"
     ]
    },
    {
     "name": "stderr",
     "output_type": "stream",
     "text": [
      "d:\\учёба\\магистратура\\____аспирантура\\___keras\\venv\\lib\\site-packages\\sklearn\\neural_network\\multilayer_perceptron.py:562: ConvergenceWarning: Stochastic Optimizer: Maximum iterations (50) reached and the optimization hasn't converged yet.\n",
      "  % self.max_iter, ConvergenceWarning)\n"
     ]
    },
    {
     "name": "stdout",
     "output_type": "stream",
     "text": [
      "В качестве оптимизатора adam. Доля правильных ответов на обучающей выборки 0.89276\n",
      "Доля правильных ответов на кросс валидации 0.8827\n"
     ]
    },
    {
     "name": "stderr",
     "output_type": "stream",
     "text": [
      "d:\\учёба\\магистратура\\____аспирантура\\___keras\\venv\\lib\\site-packages\\sklearn\\neural_network\\multilayer_perceptron.py:562: ConvergenceWarning: Stochastic Optimizer: Maximum iterations (50) reached and the optimization hasn't converged yet.\n",
      "  % self.max_iter, ConvergenceWarning)\n"
     ]
    },
    {
     "name": "stdout",
     "output_type": "stream",
     "text": [
      "В качестве оптимизатора adam. Доля правильных ответов на обучающей выборки 0.90157\n",
      "Доля правильных ответов на кросс валидации 0.8798\n",
      "В качестве оптимизатора adam. Доля правильных ответов на обучающей выборки 0.88922\n",
      "Доля правильных ответов на кросс валидации 0.8779\n",
      "В качестве оптимизатора adam. Доля правильных ответов на обучающей выборки 0.897185\n",
      "Доля правильных ответов на кросс валидации 0.8766\n",
      "В качестве оптимизатора adam. Доля правильных ответов на обучающей выборки 0.902035\n",
      "Доля правильных ответов на кросс валидации 0.8861\n",
      "В качестве оптимизатора adam. Доля правильных ответов на обучающей выборки 0.910545\n",
      "Доля правильных ответов на кросс валидации 0.8861\n",
      "В качестве оптимизатора adam. Доля правильных ответов на обучающей выборки 0.89926\n",
      "Доля правильных ответов на кросс валидации 0.8825\n",
      "В качестве оптимизатора adam. Доля правильных ответов на обучающей выборки 0.907775\n",
      "Доля правильных ответов на кросс валидации 0.8842\n",
      "В качестве оптимизатора adam. Доля правильных ответов на обучающей выборки 0.908765\n",
      "Доля правильных ответов на кросс валидации 0.8839\n",
      "В качестве оптимизатора adam. Доля правильных ответов на обучающей выборки 0.90735\n",
      "Доля правильных ответов на кросс валидации 0.8828\n"
     ]
    }
   ],
   "source": [
    "# делаем вывод, что дальше работаем с 1 моделью, так как она имеет более низкую loss + на cv показала лучший результат 88.28\n",
    "# попробуем ее улучшить\n",
    "import sklearn\n",
    "\n",
    "from sklearn.neural_network import MLPClassifier\n",
    "\n",
    "learning_rates = [0.01, 0.005, 0.001]\n",
    "alphas = [0.05, 0.01, 0.005, 0.001, 0.0001, 0.00001]\n",
    "clfs = []\n",
    "for learning_rate in learning_rates:\n",
    "    for alpha in alphas:\n",
    "        param = {'solver': 'adam', \n",
    "                 'alpha': alpha, \n",
    "                 'batch_size': 128, \n",
    "                 'beta_1': 0.9, \n",
    "                 'beta_2': 0.999, \n",
    "                 'epsilon': 1e-08, \n",
    "                 'activation': 'relu', \n",
    "                 'hidden_layer_sizes': (50, 30), \n",
    "                 'shuffle': True, \n",
    "                 'learning_rate_init': learning_rate}\n",
    "\n",
    "        clf = MLPClassifier(early_stopping=True, max_iter=50, n_iter_no_change=20, tol=1e-5, random_state=1, \n",
    "                            validation_fraction=0.1, verbose=False, warm_start=False, **param)\n",
    "        clf.fit(train_dataset.reshape(train_dataset.shape[0], -1), train_labels)\n",
    "\n",
    "        print(\"В качестве оптимизатора {}. Доля правильных ответов на обучающей выборки {}\".format(param.get('solver'), clf.score(train_dataset.reshape(train_dataset.shape[0], -1), train_labels)))\n",
    "        print(\"Доля правильных ответов на кросс валидации {}\".format(clf.score(valid_dataset.reshape(valid_dataset.shape[0], -1), valid_labels)))\n",
    "\n",
    "        clfs.append(clf)"
   ]
  },
  {
   "cell_type": "code",
   "execution_count": null,
   "metadata": {},
   "outputs": [],
   "source": [
    "plt.figure()\n",
    "plt.title(\"SGD\")\n",
    "plt.legend(labels_adam, loc='best')\n",
    "plt.plot(clfs[3].loss_curve_, **plot_args[0])\n",
    "plt.plot(clfs[4].loss_curve_, **plot_args[1])\n",
    "plt.plot(clfs[5].loss_curve_, **plot_args[2])\n",
    "plt.xlabel('epoch')\n",
    "plt.ylabel('loss')\n",
    "plt.legend(labels_sgd, loc='best')\n",
    "plt.show()"
   ]
  },
  {
   "cell_type": "code",
   "execution_count": 9,
   "metadata": {},
   "outputs": [
    {
     "name": "stdout",
     "output_type": "stream",
     "text": [
      "(200000, 1, 28, 28) X_train.shape\n",
      "200000 train_samples\n",
      "15000 valid_samples\n",
      "Train on 190000 samples, validate on 10000 samples\n",
      "Epoch 1/1\n",
      "190000/190000 [==============================] - 5978s 31ms/step - loss: 0.3683 - acc: 0.8887 - val_loss: 0.3171 - val_acc: 0.9005\n",
      "15000/15000 [==============================] - 20s 1ms/step\n",
      "CV cost_function: 0.2935501758982738\n",
      "CV accuracy: 0.9123333333015442\n"
     ]
    },
    {
     "data": {
      "image/png": "[encoded data removed]",
      "text/plain": [
       "<Figure size 432x288 with 1 Axes>"
      ]
     },
     "metadata": {
      "needs_background": "light"
     },
     "output_type": "display_data"
    },
    {
     "data": {
      "image/png": "[encoded data removed]",
      "text/plain": [
       "<Figure size 432x288 with 1 Axes>"
      ]
     },
     "metadata": {
      "needs_background": "light"
     },
     "output_type": "display_data"
    }
   ],
   "source": [
    "# с помощью Keras\n",
    "from keras import backend as k\n",
    "from keras.datasets import mnist\n",
    "from keras.models import Sequential\n",
    "from keras.layers.core import Dense, Activation, Flatten, Dropout\n",
    "from keras.layers.convolutional import Conv2D, MaxPooling2D\n",
    "from keras.optimizers import SGD, RMSprop, Adam\n",
    "from keras.utils import np_utils\n",
    "\n",
    "import numpy as np\n",
    "import matplotlib.pyplot as plt\n",
    "\n",
    "\n",
    "# Часть 1 -подготовка\n",
    "# сеть и ее обучение\n",
    "NB_EPOCH = 1\n",
    "BATCH_SIZE = 128\n",
    "VERBOSE = 1\n",
    "NB_CLASES = 10 #количество классов\n",
    "# OPTIMIZER = SGD() # в качестве оптимизатора стохастический градиентный спуск\n",
    "OPTIMIZER = Adam(lr=0.003)# в качестве оптимизатора стохастический градиентный спуск\n",
    "# lr - скорость сходимости\n",
    "#OPTIMIZER = RMSprop() # в качестве оптимизатора стохастический градиентный спуск\n",
    "VALIDATION_SPLIT = 0.05 #сколько выделить примеров из обучающего набора на кросс-валидацию\n",
    "IMG_ROWS, IMG_COLS = 28, 28 #размер входного изображения\n",
    "INPUT_SHAPE = [1, IMG_ROWS, IMG_COLS]\n",
    "k.set_image_dim_ordering(\"th\")\n",
    "\n",
    "# загружаем данные и перемешиваем и делим на обучение и тест\n",
    "(X_train, y_train), (X_valid, y_valid) = (train_dataset, train_labels), (valid_dataset, valid_labels)\n",
    "\n",
    "# нам нужна форма 60К * [1*28*28], подаваемая на вход CNN\n",
    "X_train = X_train[:, np.newaxis, :, :]\n",
    "X_valid = X_valid[:, np.newaxis, :, :]\n",
    "\n",
    "# для ядра tf меняем размерность изображений\n",
    "# k.set_image_dim_ordering(\"tf\")\n",
    "# INPUT_SHAPE = [IMG_ROWS, IMG_COLS, 1]\n",
    "# X_train = np.transpose(X_train, (0, 2, 3, 1))\n",
    "# X_valid = np.transpose(X_valid, (0, 2, 3, 1))\n",
    "\n",
    "print(X_train.shape, 'X_train.shape')\n",
    "print(X_train.shape[0], 'train_samples')\n",
    "print(X_valid.shape[0], 'valid_samples')\n",
    "\n",
    "# унитарное кодирование меток - преобразование векторов классов в бинарные матрицы классов\n",
    "Y_train = np_utils.to_categorical(y_train, NB_CLASES)\n",
    "Y_valid = np_utils.to_categorical(y_valid, NB_CLASES)\n",
    "\n",
    "# часть 2 - архитектура сети\n",
    "class CNN:\n",
    "    @staticmethod\n",
    "    def build(input_shape, classes):\n",
    "        model = Sequential()\n",
    "        # CONV => RELU => POOL\n",
    "        model = Sequential()\n",
    "        # CONV => RELU => POOL\n",
    "        model.add(Conv2D(20, kernel_size=5, padding='same', input_shape=input_shape, activation='relu'))\n",
    "        model.add(MaxPooling2D(pool_size=(2, 2), strides=(2, 2)))\n",
    "        # CONV => RELU => POOL\n",
    "        model.add(Conv2D(50, kernel_size=5, padding='same', input_shape=input_shape, activation='relu'))\n",
    "        model.add(MaxPooling2D(pool_size=(2, 2), strides=(2, 2)))\n",
    "        # слои Flatten => RELU\n",
    "        # Flatten - слой уплотнения (то есть мы берем и вытягиваем получившиеся признаки в вектор\n",
    "        # строку размрености (50*7*7, ))\n",
    "        model.add(Flatten())\n",
    "        #  и плотный слой с 500 нейронами\n",
    "        model.add(Dense(500, activation='relu'))\n",
    "        # softmax -классификатор   \n",
    "        model.add(Dense(classes, activation='softmax'))\n",
    "        return model\n",
    "\n",
    "# инициализируем оптимизатор и модель\n",
    "model = CNN.build(input_shape=INPUT_SHAPE, classes=NB_CLASES)\n",
    "# орпеделеяем метод оптимизации и функцию потерь.\n",
    "model.compile(loss='categorical_crossentropy', optimizer=OPTIMIZER, metrics=['accuracy'])\n",
    "# обучение модели\n",
    "history = model.fit(X_train, Y_train, batch_size=BATCH_SIZE, epochs=NB_EPOCH,\n",
    "                    verbose=VERBOSE, validation_split=VALIDATION_SPLIT)\n",
    "# вывод результатов работы\n",
    "score = model.evaluate(X_valid, Y_valid, verbose=VERBOSE)\n",
    "print(\"CV cost_function:\", score[0])\n",
    "print(\"CV accuracy:\", score[1])\n",
    "\n",
    "# построить график изменения accuracy\n",
    "plt.plot(history.history['acc'])\n",
    "plt.plot(history.history['val_acc'])\n",
    "plt.title('model accuracy')\n",
    "plt.ylabel('accuracy')\n",
    "plt.xlabel('epoch')\n",
    "plt.legend(['train', 'valid'], loc='upper left')\n",
    "plt.show()\n",
    "\n",
    "# построить график изменения функии потерь\n",
    "plt.plot(history.history['loss'])\n",
    "plt.plot(history.history['val_loss'])\n",
    "plt.title('model loss')\n",
    "plt.ylabel('loss')\n",
    "plt.xlabel('epoch')\n",
    "plt.legend(['train', 'valid'], loc='upper left')\n",
    "plt.show()\n"
   ]
  },
  {
   "cell_type": "code",
   "execution_count": 10,
   "metadata": {},
   "outputs": [
    {
     "name": "stdout",
     "output_type": "stream",
     "text": [
      "16355/16355 [==============================] - 22s 1ms/step\n",
      "TEST cost_function: 0.2936185056466674\n",
      "TEST accuracy: 0.9093243656374197\n"
     ]
    }
   ],
   "source": [
    "#проверка на тесте\n",
    "\n",
    "X_test = test_dataset[:, np.newaxis, :, :]\n",
    "Y_test = np_utils.to_categorical(test_labels, 10)\n",
    "\n",
    "score = model.evaluate(X_test, Y_test, verbose=VERBOSE)\n",
    "print(\"TEST cost_function:\", score[0])\n",
    "print(\"TEST accuracy:\", score[1])"
   ]
  },
  {
   "cell_type": "code",
   "execution_count": 43,
   "metadata": {},
   "outputs": [
    {
     "data": {
      "text/plain": [
       "{'val_loss': [0.28921276502609256, 0.2644384395599365, 0.26127655906677244],\n",
       " 'val_acc': [0.9137, 0.9228, 0.9249],\n",
       " 'loss': [0.38116990103219683, 0.26166195126332736, 0.21114382465136677],\n",
       " 'acc': [0.887047368426072, 0.9203578947318227, 0.9339684210476122]}"
      ]
     },
     "execution_count": 43,
     "metadata": {},
     "output_type": "execute_result"
    }
   ],
   "source": [
    "history.history"
   ]
  },
  {
   "cell_type": "code",
   "execution_count": 6,
   "metadata": {},
   "outputs": [],
   "source": [
    "# read pickle file\n",
    "with open('notMNIST_cor1.pickle', 'rb') as f:\n",
    "    dataset = pickle.load(f)\n",
    "dataset_key = dataset.keys()\n",
    "\n",
    "train_dataset, train_labels = dataset['train_dataset'], dataset['train_labels']\n",
    "valid_dataset, valid_labels = dataset['valid_dataset'], dataset['valid_labels']\n",
    "test_dataset, test_labels = dataset['test_dataset'], dataset['test_labels']\n",
    "\n",
    "del dataset"
   ]
  },
  {
   "cell_type": "code",
   "execution_count": 10,
   "metadata": {},
   "outputs": [
    {
     "name": "stderr",
     "output_type": "stream",
     "text": [
      "Using TensorFlow backend.\n"
     ]
    },
    {
     "name": "stdout",
     "output_type": "stream",
     "text": [
      "16355/16355 [==============================] - 22s 1ms/step\n",
      "loss test 0.28579379763580615, accurcy 0.9131763986548456\n"
     ]
    }
   ],
   "source": [
    "# Уже с учетом отброса пересечений в подмножествах данных\n",
    "#Загрузк весов\n",
    "from keras.models import load_model\n",
    "from keras.utils import np_utils\n",
    "\n",
    "X_test = test_dataset[:, np.newaxis, :, :]\n",
    "Y_test = np_utils.to_categorical(test_labels, 10)\n",
    "\n",
    "# вернуть откомпилированную модель, идентичную исходной\n",
    "model_load = load_model('notMNIST_weights.h5')\n",
    "score = model_load.evaluate(X_test, Y_test, verbose=1)\n",
    "print('loss test {}, accurcy {}'.format(score[0], score[1]))"
   ]
  },
  {
   "cell_type": "code",
   "execution_count": 11,
   "metadata": {},
   "outputs": [],
   "source": [
    "# from keras.models import model_from_json\n",
    "\n",
    "model_json = model.to_json()\n",
    "open('notMNIST_architecture_v1.json', 'w').write(model_json)\n",
    "# и веса, вычисленные в результате обучения сети\n",
    "model.save_weights('notMNIST_weights_v1.h5', overwrite=True)\n",
    "\n",
    "# del model\n",
    "\n",
    "# model_architecture = 'notMNIST_architecture.json'\n",
    "# model_weights = 'notMNIST_weights.h5'\n",
    "# model = model_from_json(open(model_architecture).read())\n",
    "# model.load_weights(model_weights)\n",
    "# model.compile(loss='categorical_crossentropy', optimizer=OPTIMIZER, metrics=['accuracy'])\n",
    "# score = model.evaluate(X_test, Y_test, verbose=VERBOSE)\n",
    "# print('loss test {}, accurcy {}'.format(score[0], score[1]))\n"
   ]
  },
  {
   "cell_type": "code",
   "execution_count": 7,
   "metadata": {},
   "outputs": [
    {
     "data": {
      "text/plain": [
       "(200000, 28, 28)"
      ]
     },
     "execution_count": 7,
     "metadata": {},
     "output_type": "execute_result"
    }
   ],
   "source": [
    "train_dataset.shape"
   ]
  },
  {
   "cell_type": "code",
   "execution_count": null,
   "metadata": {},
   "outputs": [],
   "source": []
  }
 ],
 "metadata": {
  "kernelspec": {
   "display_name": "Python 3",
   "language": "python",
   "name": "python3"
  }
 },
 "nbformat": 4,
 "nbformat_minor": 2
}
